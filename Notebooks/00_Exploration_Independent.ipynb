{
 "cells": [
  {
   "cell_type": "code",
   "execution_count": 1,
   "metadata": {},
   "outputs": [],
   "source": [
    "import os\n",
    "\n",
    "import jax\n",
    "from jax import random, numpy as jnp\n",
    "from flax.core import freeze, unfreeze\n",
    "import orbax\n",
    "import orbax.checkpoint\n",
    "import wandb\n",
    "from ml_collections import ConfigDict\n",
    "\n",
    "from iqadatasets.datasets import *\n",
    "from pnetkld.models import IndependentMeanStd, DependentStd\n",
    "from pnetkld.training import create_train_state, kld, js"
   ]
  },
  {
   "cell_type": "markdown",
   "metadata": {},
   "source": [
    "## Load model weights"
   ]
  },
  {
   "cell_type": "code",
   "execution_count": 2,
   "metadata": {},
   "outputs": [],
   "source": [
    "id = \"s10iigeo\"\n",
    "run_path = f\"Jorgvt/PerceptNet_KLD/{id}\""
   ]
  },
  {
   "cell_type": "code",
   "execution_count": 3,
   "metadata": {},
   "outputs": [],
   "source": [
    "api = wandb.Api()\n",
    "run = api.run(run_path)\n",
    "config = ConfigDict(run.config)\n",
    "for file in run.files():\n",
    "    file.download(root=run.dir, replace=True)"
   ]
  },
  {
   "cell_type": "code",
   "execution_count": 4,
   "metadata": {},
   "outputs": [
    {
     "data": {
      "text/plain": [
       "BATCH_SIZE: 32\n",
       "CS_KERNEL_SIZE: 5\n",
       "DISTANCE: kld\n",
       "EPOCHS: 500\n",
       "GABOR_KERNEL_SIZE: 5\n",
       "GDNGAUSSIAN_KERNEL_SIZE: 1\n",
       "GDNSPATIOFREQ_KERNEL_SIZE: 1\n",
       "LAMBDA: 0\n",
       "LEARNING_RATE: 0.0003\n",
       "MODEL: independent\n",
       "N_GABORS: 128\n",
       "SEED: 42"
      ]
     },
     "execution_count": 4,
     "metadata": {},
     "output_type": "execute_result"
    }
   ],
   "source": [
    "config"
   ]
  },
  {
   "cell_type": "code",
   "execution_count": 5,
   "metadata": {},
   "outputs": [],
   "source": [
    "ckpt = orbax.checkpoint.PyTreeCheckpointer()\n",
    "state = ckpt.restore(os.path.join(run.dir, \"model-best\"))"
   ]
  },
  {
   "cell_type": "code",
   "execution_count": 6,
   "metadata": {},
   "outputs": [],
   "source": [
    "model = IndependentMeanStd(config)\n",
    "variables = model.init(random.PRNGKey(42), jnp.ones((1,384,512,3)))\n",
    "variables = unfreeze(variables)\n",
    "variables[\"params\"] = state[\"params\"]\n",
    "variables = freeze(variables)"
   ]
  },
  {
   "cell_type": "markdown",
   "metadata": {},
   "source": [
    "## Load data"
   ]
  },
  {
   "cell_type": "code",
   "execution_count": 7,
   "metadata": {},
   "outputs": [],
   "source": [
    "# dst = TID2008(\"\")"
   ]
  },
  {
   "cell_type": "markdown",
   "metadata": {},
   "source": [
    "## Obtain all predictions"
   ]
  },
  {
   "cell_type": "code",
   "execution_count": 8,
   "metadata": {},
   "outputs": [],
   "source": [
    "def forward(variables, img):\n",
    "    pred = model.apply(variables, img)\n",
    "    return pred"
   ]
  },
  {
   "cell_type": "code",
   "execution_count": 9,
   "metadata": {},
   "outputs": [],
   "source": [
    "def calculate_distance(variables, img, img_dist):\n",
    "    pred_mean, pred_logvar = forward(variables, img)\n",
    "    pred_mean_dist, pred_logvar_dist = forward(variables, img_dist)\n",
    "    return kld(pred_mean, pred_logvar, pred_mean_dist, pred_logvar_dist)"
   ]
  },
  {
   "cell_type": "code",
   "execution_count": 10,
   "metadata": {},
   "outputs": [
    {
     "data": {
      "text/plain": [
       "(Array([0.], dtype=float32), (1,))"
      ]
     },
     "execution_count": 10,
     "metadata": {},
     "output_type": "execute_result"
    }
   ],
   "source": [
    "dist = calculate_distance(variables, jnp.ones((1,384,512,3)), jnp.ones((1,384,512,3)))\n",
    "dist, dist.shape"
   ]
  }
 ],
 "metadata": {
  "kernelspec": {
   "display_name": "jax-metal",
   "language": "python",
   "name": "python3"
  },
  "language_info": {
   "codemirror_mode": {
    "name": "ipython",
    "version": 3
   },
   "file_extension": ".py",
   "mimetype": "text/x-python",
   "name": "python",
   "nbconvert_exporter": "python",
   "pygments_lexer": "ipython3",
   "version": "3.8.18"
  }
 },
 "nbformat": 4,
 "nbformat_minor": 2
}
